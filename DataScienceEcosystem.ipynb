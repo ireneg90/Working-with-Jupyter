{
 "cells": [
  {
   "cell_type": "markdown",
   "id": "b2ea61f3-a307-4cb0-a172-a6955b169d07",
   "metadata": {
    "tags": []
   },
   "source": [
    "# Data Science Tools and Ecosystem"
   ]
  },
  {
   "cell_type": "markdown",
   "id": "47f02474-95bd-4dba-8822-78b0fcfd6e35",
   "metadata": {},
   "source": [
    "In this notebook, Data Science Tools and Ecosystem are summarized."
   ]
  },
  {
   "cell_type": "markdown",
   "id": "bc819f02-0b6f-42f6-a33a-d4e62d33dd8a",
   "metadata": {},
   "source": [
    "Some of the popular languages that Data Scientists use are:"
   ]
  },
  {
   "cell_type": "markdown",
   "id": "dfb4d536-d240-458c-8fab-513de91ba004",
   "metadata": {},
   "source": [
    "1. Python\n",
    "1. R\n",
    "1. c++"
   ]
  },
  {
   "cell_type": "markdown",
   "id": "9f6f7b9a-76b7-4eca-a499-7163885b8704",
   "metadata": {},
   "source": [
    "Some of the commonly used libraries used by Data Scientists include:"
   ]
  },
  {
   "cell_type": "markdown",
   "id": "13588dbd-f851-4916-ae9a-dacd7a8b989e",
   "metadata": {
    "tags": []
   },
   "source": [
    "1. Pandas\n",
    "1. NumPy\n",
    "1. Matplotlib"
   ]
  },
  {
   "cell_type": "markdown",
   "id": "6bb34622-f722-426a-a1de-21e714df60b1",
   "metadata": {},
   "source": [
    "|Data Science Tools|\n",
    "|---|\n",
    "|Hadoop|\n",
    "|TensorFlow|\n",
    "|Jupyter|"
   ]
  },
  {
   "cell_type": "markdown",
   "id": "d9bde189-f681-4eb7-88f9-1520ab98245b",
   "metadata": {
    "tags": []
   },
   "source": [
    "### Below are a few examples of evaluating arithmetic expressions in Python"
   ]
  },
  {
   "cell_type": "markdown",
   "id": "3e4b58d7-002d-441b-9245-1d8a20331aa1",
   "metadata": {},
   "source": [
    "This a simple arithmetic expression to mutiply then add integers:"
   ]
  },
  {
   "cell_type": "code",
   "execution_count": 4,
   "id": "1775d03d-7c38-40ad-83e1-d290f00888f8",
   "metadata": {
    "tags": []
   },
   "outputs": [
    {
     "data": {
      "text/plain": [
       "17"
      ]
     },
     "execution_count": 4,
     "metadata": {},
     "output_type": "execute_result"
    }
   ],
   "source": [
    "(3*4)+5"
   ]
  },
  {
   "cell_type": "markdown",
   "id": "32bab926-35ea-46ec-ab61-ad7c5014accb",
   "metadata": {},
   "source": [
    "This will convert 200 minutes to hours by diving by 60:"
   ]
  },
  {
   "cell_type": "code",
   "execution_count": 1,
   "id": "61b20d7f-1ad0-44b2-8795-24ef88470ed4",
   "metadata": {
    "tags": []
   },
   "outputs": [
    {
     "data": {
      "text/plain": [
       "3.3333333333333335"
      ]
     },
     "execution_count": 1,
     "metadata": {},
     "output_type": "execute_result"
    }
   ],
   "source": [
    "200/60"
   ]
  },
  {
   "cell_type": "markdown",
   "id": "c490308f-aaba-4945-a2ee-8b1761b4d895",
   "metadata": {
    "tags": []
   },
   "source": [
    "**Objectives**"
   ]
  },
  {
   "cell_type": "markdown",
   "id": "7658f351-17e5-45a1-9257-e7d714176cba",
   "metadata": {},
   "source": [
    "- List popular languages for Data Science\n",
    "- List common open tools\n",
    "- List of common libraries"
   ]
  },
  {
   "cell_type": "markdown",
   "id": "00722cdd-65d9-4d5a-bf23-c0ebb734bc74",
   "metadata": {},
   "source": [
    "## Author"
   ]
  },
  {
   "cell_type": "markdown",
   "id": "cb279ebf-8bee-4bdd-8a3f-f0b2d3b1ecb5",
   "metadata": {},
   "source": [
    "Irene Gallego"
   ]
  },
  {
   "cell_type": "markdown",
   "id": "bf6116d1-8b9d-4fa2-9e51-ffc1fb514821",
   "metadata": {},
   "source": [
    "https://github.com/ireneg90/Working-with-Jupyter"
   ]
  },
  {
   "cell_type": "code",
   "execution_count": null,
   "id": "0eb7ef12-e8d4-4490-b381-127b1993fbe3",
   "metadata": {},
   "outputs": [],
   "source": []
  }
 ],
 "metadata": {
  "kernelspec": {
   "display_name": "Python",
   "language": "python",
   "name": "conda-env-python-py"
  },
  "language_info": {
   "codemirror_mode": {
    "name": "ipython",
    "version": 3
   },
   "file_extension": ".py",
   "mimetype": "text/x-python",
   "name": "python",
   "nbconvert_exporter": "python",
   "pygments_lexer": "ipython3",
   "version": "3.7.12"
  }
 },
 "nbformat": 4,
 "nbformat_minor": 5
}
